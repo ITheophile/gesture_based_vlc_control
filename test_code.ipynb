{
 "cells": [
  {
   "cell_type": "code",
   "execution_count": 30,
   "metadata": {},
   "outputs": [
    {
     "data": {
      "text/plain": [
       "array([[   0,    0],\n",
       "       [ -66,  -37],\n",
       "       [ 151, -277]])"
      ]
     },
     "execution_count": 30,
     "metadata": {},
     "output_type": "execute_result"
    }
   ],
   "source": [
    "import numpy as np\n",
    "\n",
    "coordinates = [[551, 465], [485, 428], [702, 188]]\n",
    "\n",
    "np_coordinates = np.array(coordinates)\n",
    "wrist_coordinates = np_coordinates[0]\n",
    "\n",
    "relative_coordinates = np_coordinates - wrist_coordinates\n",
    "relative_coordinates"
   ]
  },
  {
   "cell_type": "code",
   "execution_count": 31,
   "metadata": {},
   "outputs": [
    {
     "data": {
      "text/plain": [
       "array([   0,    0,  -66,  -37,  151, -277])"
      ]
     },
     "execution_count": 31,
     "metadata": {},
     "output_type": "execute_result"
    }
   ],
   "source": [
    "# flatten\n",
    "flattened_coordinates = relative_coordinates.flatten()\n",
    "flattened_coordinates"
   ]
  },
  {
   "cell_type": "code",
   "execution_count": 34,
   "metadata": {},
   "outputs": [
    {
     "data": {
      "text/plain": [
       "(1, 6)"
      ]
     },
     "execution_count": 34,
     "metadata": {},
     "output_type": "execute_result"
    }
   ],
   "source": [
    "# normalize\n",
    "\n",
    "max_value = np.abs(flattened_coordinates).max()\n",
    "\n",
    "normalized = flattened_coordinates/max_value\n",
    "normalized.reshape(1, -1).shape"
   ]
  },
  {
   "cell_type": "code",
   "execution_count": 18,
   "metadata": {},
   "outputs": [
    {
     "name": "stdout",
     "output_type": "stream",
     "text": [
      "0.0 0.0 -0.23826714801444043 -0.13357400722021662 0.5451263537906137 -1.0\n"
     ]
    }
   ],
   "source": [
    "print(*normalized)"
   ]
  },
  {
   "cell_type": "code",
   "execution_count": 68,
   "metadata": {},
   "outputs": [
    {
     "name": "stdout",
     "output_type": "stream",
     "text": [
      "4384\n"
     ]
    },
    {
     "data": {
      "text/plain": [
       "5    588\n",
       "2    579\n",
       "1    565\n",
       "0    549\n",
       "7    546\n",
       "3    542\n",
       "6    511\n",
       "4    504\n",
       "Name: 0, dtype: int64"
      ]
     },
     "execution_count": 68,
     "metadata": {},
     "output_type": "execute_result"
    }
   ],
   "source": [
    "import pandas as pd\n",
    "\n",
    "\n",
    "data = pd.read_csv('data/keypoint.csv', header=None)\n",
    "print(len(data))\n",
    "print(data[0].value_counts())"
   ]
  },
  {
   "cell_type": "code",
   "execution_count": 71,
   "metadata": {},
   "outputs": [
    {
     "data": {
      "text/plain": [
       "8"
      ]
     },
     "execution_count": 71,
     "metadata": {},
     "output_type": "execute_result"
    }
   ],
   "source": []
  },
  {
   "cell_type": "code",
   "execution_count": 38,
   "metadata": {},
   "outputs": [
    {
     "data": {
      "text/plain": [
       "(array([1.]),\n",
       " array([[ 0.        ,  0.        ,  0.0741573 , -0.15505618,  0.0988764 ,\n",
       "         -0.37752809,  0.11011236, -0.54606742,  0.13483146, -0.67191011,\n",
       "         -0.03595506, -0.57078652, -0.08089888, -0.75505618, -0.11460674,\n",
       "         -0.86292135, -0.14831461, -0.96629213, -0.08764045, -0.53707865,\n",
       "         -0.13932584, -0.74606742, -0.1752809 , -0.87865169, -0.21123596,\n",
       "         -1.        , -0.1258427 , -0.46292135, -0.17977528, -0.65617978,\n",
       "         -0.20898876, -0.78202247, -0.24269663, -0.90337079, -0.15730337,\n",
       "         -0.35505618, -0.20674157, -0.49213483, -0.23820225, -0.58876404,\n",
       "         -0.26741573, -0.68764045]]))"
      ]
     },
     "execution_count": 38,
     "metadata": {},
     "output_type": "execute_result"
    }
   ],
   "source": [
    "test = data.sample(1)\n",
    "y, x = test.values[:, 0], test.values[:, 1:]\n",
    "y, x"
   ]
  },
  {
   "cell_type": "code",
   "execution_count": 39,
   "metadata": {},
   "outputs": [
    {
     "name": "stdout",
     "output_type": "stream",
     "text": [
      "1\n"
     ]
    }
   ],
   "source": [
    "from model_architecture import model\n",
    "import torch\n",
    "\n",
    "model.load_state_dict(torch.load('model.pth'))\n",
    "model.eval\n",
    "with torch.no_grad():\n",
    "    print(torch.argmax(model(torch.tensor(x, dtype=torch.float)), dim=1).item())"
   ]
  },
  {
   "cell_type": "code",
   "execution_count": 52,
   "metadata": {},
   "outputs": [
    {
     "data": {
      "text/plain": [
       "'Play'"
      ]
     },
     "execution_count": 52,
     "metadata": {},
     "output_type": "execute_result"
    }
   ],
   "source": []
  }
 ],
 "metadata": {
  "kernelspec": {
   "display_name": "Python 3.8.13 ('strive')",
   "language": "python",
   "name": "python3"
  },
  "language_info": {
   "codemirror_mode": {
    "name": "ipython",
    "version": 3
   },
   "file_extension": ".py",
   "mimetype": "text/x-python",
   "name": "python",
   "nbconvert_exporter": "python",
   "pygments_lexer": "ipython3",
   "version": "3.8.13"
  },
  "orig_nbformat": 4,
  "vscode": {
   "interpreter": {
    "hash": "57b4146e8602cb0ff91512065bdb02700ac9f9d6ea9aa046f2e5f7c3a69675f8"
   }
  }
 },
 "nbformat": 4,
 "nbformat_minor": 2
}
